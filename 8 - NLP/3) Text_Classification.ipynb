{
 "cells": [
  {
   "cell_type": "markdown",
   "id": "c9cdaa69",
   "metadata": {},
   "source": [
    "# Text Classification"
   ]
  },
  {
   "cell_type": "code",
   "execution_count": 2,
   "id": "65153437",
   "metadata": {
    "metadata": {}
   },
   "outputs": [],
   "source": [
    "import pandas\n",
    "from sklearn.datasets import fetch_20newsgroups\n",
    "training_dataset = fetch_20newsgroups(subset='train')\n",
    "test_dataset = fetch_20newsgroups(subset='test')\n",
    "training_data = training_dataset['data']\n",
    "training_target = training_dataset['target']\n",
    "test_data = test_dataset['data']\n",
    "test_target = test_dataset['target']\n",
    "target_names = training_dataset['target_names']"
   ]
  },
  {
   "cell_type": "code",
   "execution_count": 3,
   "id": "cccf38aa",
   "metadata": {
    "metadata": {}
   },
   "outputs": [],
   "source": [
    "dataset_training = pandas.DataFrame(\n",
    "    {'data':list(training_dataset['data']), \n",
    "     'target': list(training_dataset['target'])\n",
    "    })\n",
    "\n",
    "dataset_testing = pandas.DataFrame(\n",
    "    {'data':list(test_dataset['data']), \n",
    "     'target': list(test_dataset['target'])\n",
    "    })"
   ]
  },
  {
   "cell_type": "code",
   "execution_count": 4,
   "id": "df657310",
   "metadata": {
    "metadata": {}
   },
   "outputs": [
    {
     "data": {
      "text/html": [
       "<div>\n",
       "<style scoped>\n",
       "    .dataframe tbody tr th:only-of-type {\n",
       "        vertical-align: middle;\n",
       "    }\n",
       "\n",
       "    .dataframe tbody tr th {\n",
       "        vertical-align: top;\n",
       "    }\n",
       "\n",
       "    .dataframe thead th {\n",
       "        text-align: right;\n",
       "    }\n",
       "</style>\n",
       "<table border=\"1\" class=\"dataframe\">\n",
       "  <thead>\n",
       "    <tr style=\"text-align: right;\">\n",
       "      <th></th>\n",
       "      <th>data</th>\n",
       "      <th>target</th>\n",
       "    </tr>\n",
       "  </thead>\n",
       "  <tbody>\n",
       "    <tr>\n",
       "      <th>0</th>\n",
       "      <td>From: lerxst@wam.umd.edu (where's my thing)\\nS...</td>\n",
       "      <td>7</td>\n",
       "    </tr>\n",
       "    <tr>\n",
       "      <th>1</th>\n",
       "      <td>From: guykuo@carson.u.washington.edu (Guy Kuo)...</td>\n",
       "      <td>4</td>\n",
       "    </tr>\n",
       "    <tr>\n",
       "      <th>2</th>\n",
       "      <td>From: twillis@ec.ecn.purdue.edu (Thomas E Will...</td>\n",
       "      <td>4</td>\n",
       "    </tr>\n",
       "    <tr>\n",
       "      <th>3</th>\n",
       "      <td>From: jgreen@amber (Joe Green)\\nSubject: Re: W...</td>\n",
       "      <td>1</td>\n",
       "    </tr>\n",
       "    <tr>\n",
       "      <th>4</th>\n",
       "      <td>From: jcm@head-cfa.harvard.edu (Jonathan McDow...</td>\n",
       "      <td>14</td>\n",
       "    </tr>\n",
       "    <tr>\n",
       "      <th>...</th>\n",
       "      <td>...</td>\n",
       "      <td>...</td>\n",
       "    </tr>\n",
       "    <tr>\n",
       "      <th>11309</th>\n",
       "      <td>From: jim.zisfein@factory.com (Jim Zisfein) \\n...</td>\n",
       "      <td>13</td>\n",
       "    </tr>\n",
       "    <tr>\n",
       "      <th>11310</th>\n",
       "      <td>From: ebodin@pearl.tufts.edu\\nSubject: Screen ...</td>\n",
       "      <td>4</td>\n",
       "    </tr>\n",
       "    <tr>\n",
       "      <th>11311</th>\n",
       "      <td>From: westes@netcom.com (Will Estes)\\nSubject:...</td>\n",
       "      <td>3</td>\n",
       "    </tr>\n",
       "    <tr>\n",
       "      <th>11312</th>\n",
       "      <td>From: steve@hcrlgw (Steven Collins)\\nSubject: ...</td>\n",
       "      <td>1</td>\n",
       "    </tr>\n",
       "    <tr>\n",
       "      <th>11313</th>\n",
       "      <td>From: gunning@cco.caltech.edu (Kevin J. Gunnin...</td>\n",
       "      <td>8</td>\n",
       "    </tr>\n",
       "  </tbody>\n",
       "</table>\n",
       "<p>11314 rows × 2 columns</p>\n",
       "</div>"
      ],
      "text/plain": [
       "                                                    data  target\n",
       "0      From: lerxst@wam.umd.edu (where's my thing)\\nS...       7\n",
       "1      From: guykuo@carson.u.washington.edu (Guy Kuo)...       4\n",
       "2      From: twillis@ec.ecn.purdue.edu (Thomas E Will...       4\n",
       "3      From: jgreen@amber (Joe Green)\\nSubject: Re: W...       1\n",
       "4      From: jcm@head-cfa.harvard.edu (Jonathan McDow...      14\n",
       "...                                                  ...     ...\n",
       "11309  From: jim.zisfein@factory.com (Jim Zisfein) \\n...      13\n",
       "11310  From: ebodin@pearl.tufts.edu\\nSubject: Screen ...       4\n",
       "11311  From: westes@netcom.com (Will Estes)\\nSubject:...       3\n",
       "11312  From: steve@hcrlgw (Steven Collins)\\nSubject: ...       1\n",
       "11313  From: gunning@cco.caltech.edu (Kevin J. Gunnin...       8\n",
       "\n",
       "[11314 rows x 2 columns]"
      ]
     },
     "execution_count": 4,
     "metadata": {},
     "output_type": "execute_result"
    }
   ],
   "source": [
    "dataset_training"
   ]
  },
  {
   "cell_type": "code",
   "execution_count": 5,
   "id": "ce0d0bb7",
   "metadata": {
    "metadata": {}
   },
   "outputs": [
    {
     "data": {
      "text/html": [
       "<div>\n",
       "<style scoped>\n",
       "    .dataframe tbody tr th:only-of-type {\n",
       "        vertical-align: middle;\n",
       "    }\n",
       "\n",
       "    .dataframe tbody tr th {\n",
       "        vertical-align: top;\n",
       "    }\n",
       "\n",
       "    .dataframe thead th {\n",
       "        text-align: right;\n",
       "    }\n",
       "</style>\n",
       "<table border=\"1\" class=\"dataframe\">\n",
       "  <thead>\n",
       "    <tr style=\"text-align: right;\">\n",
       "      <th></th>\n",
       "      <th>data</th>\n",
       "      <th>target</th>\n",
       "    </tr>\n",
       "  </thead>\n",
       "  <tbody>\n",
       "    <tr>\n",
       "      <th>0</th>\n",
       "      <td>From: v064mb9k@ubvmsd.cc.buffalo.edu (NEIL B. ...</td>\n",
       "      <td>7</td>\n",
       "    </tr>\n",
       "    <tr>\n",
       "      <th>1</th>\n",
       "      <td>From: Rick Miller &lt;rick@ee.uwm.edu&gt;\\nSubject: ...</td>\n",
       "      <td>5</td>\n",
       "    </tr>\n",
       "    <tr>\n",
       "      <th>2</th>\n",
       "      <td>From: mathew &lt;mathew@mantis.co.uk&gt;\\nSubject: R...</td>\n",
       "      <td>0</td>\n",
       "    </tr>\n",
       "    <tr>\n",
       "      <th>3</th>\n",
       "      <td>From: bakken@cs.arizona.edu (Dave Bakken)\\nSub...</td>\n",
       "      <td>17</td>\n",
       "    </tr>\n",
       "    <tr>\n",
       "      <th>4</th>\n",
       "      <td>From: livesey@solntze.wpd.sgi.com (Jon Livesey...</td>\n",
       "      <td>19</td>\n",
       "    </tr>\n",
       "    <tr>\n",
       "      <th>...</th>\n",
       "      <td>...</td>\n",
       "      <td>...</td>\n",
       "    </tr>\n",
       "    <tr>\n",
       "      <th>7527</th>\n",
       "      <td>From: richmond@spiff.Princeton.EDU (Stupendous...</td>\n",
       "      <td>14</td>\n",
       "    </tr>\n",
       "    <tr>\n",
       "      <th>7528</th>\n",
       "      <td>From: smytonj@murr11.alleg.edu (Jim Smyton)\\nS...</td>\n",
       "      <td>4</td>\n",
       "    </tr>\n",
       "    <tr>\n",
       "      <th>7529</th>\n",
       "      <td>From: hhenderson@vax.clarku.edu\\nSubject: RE: ...</td>\n",
       "      <td>9</td>\n",
       "    </tr>\n",
       "    <tr>\n",
       "      <th>7530</th>\n",
       "      <td>From: b859zam@utarlg.uta.edu \\nSubject: INTEL ...</td>\n",
       "      <td>6</td>\n",
       "    </tr>\n",
       "    <tr>\n",
       "      <th>7531</th>\n",
       "      <td>From: adamsj@gtewd.mtv.gtegsc.com\\nSubject: Re...</td>\n",
       "      <td>15</td>\n",
       "    </tr>\n",
       "  </tbody>\n",
       "</table>\n",
       "<p>7532 rows × 2 columns</p>\n",
       "</div>"
      ],
      "text/plain": [
       "                                                   data  target\n",
       "0     From: v064mb9k@ubvmsd.cc.buffalo.edu (NEIL B. ...       7\n",
       "1     From: Rick Miller <rick@ee.uwm.edu>\\nSubject: ...       5\n",
       "2     From: mathew <mathew@mantis.co.uk>\\nSubject: R...       0\n",
       "3     From: bakken@cs.arizona.edu (Dave Bakken)\\nSub...      17\n",
       "4     From: livesey@solntze.wpd.sgi.com (Jon Livesey...      19\n",
       "...                                                 ...     ...\n",
       "7527  From: richmond@spiff.Princeton.EDU (Stupendous...      14\n",
       "7528  From: smytonj@murr11.alleg.edu (Jim Smyton)\\nS...       4\n",
       "7529  From: hhenderson@vax.clarku.edu\\nSubject: RE: ...       9\n",
       "7530  From: b859zam@utarlg.uta.edu \\nSubject: INTEL ...       6\n",
       "7531  From: adamsj@gtewd.mtv.gtegsc.com\\nSubject: Re...      15\n",
       "\n",
       "[7532 rows x 2 columns]"
      ]
     },
     "execution_count": 5,
     "metadata": {},
     "output_type": "execute_result"
    }
   ],
   "source": [
    "dataset_testing"
   ]
  },
  {
   "cell_type": "code",
   "execution_count": 6,
   "id": "a2ab0360",
   "metadata": {
    "metadata": {}
   },
   "outputs": [
    {
     "data": {
      "text/plain": [
       "['alt.atheism',\n",
       " 'comp.graphics',\n",
       " 'comp.os.ms-windows.misc',\n",
       " 'comp.sys.ibm.pc.hardware',\n",
       " 'comp.sys.mac.hardware',\n",
       " 'comp.windows.x',\n",
       " 'misc.forsale',\n",
       " 'rec.autos',\n",
       " 'rec.motorcycles',\n",
       " 'rec.sport.baseball',\n",
       " 'rec.sport.hockey',\n",
       " 'sci.crypt',\n",
       " 'sci.electronics',\n",
       " 'sci.med',\n",
       " 'sci.space',\n",
       " 'soc.religion.christian',\n",
       " 'talk.politics.guns',\n",
       " 'talk.politics.mideast',\n",
       " 'talk.politics.misc',\n",
       " 'talk.religion.misc']"
      ]
     },
     "execution_count": 6,
     "metadata": {},
     "output_type": "execute_result"
    }
   ],
   "source": [
    "#Visualizziamo le classi del dataset \n",
    "target_names"
   ]
  },
  {
   "cell_type": "code",
   "execution_count": 7,
   "id": "c5c0e0bb",
   "metadata": {
    "metadata": {}
   },
   "outputs": [],
   "source": [
    "#Filtro il dataset per costruirmi un minidataset di esempio usando le categorie 3 e 4 (Ibm e MAC). \n",
    "dataset_training = dataset_training[dataset_training['target'].isin([3,4])]\n",
    "dataset_testing = dataset_testing[dataset_testing['target'].isin([3,4])]"
   ]
  },
  {
   "cell_type": "code",
   "execution_count": 8,
   "id": "cd62031c",
   "metadata": {
    "metadata": {}
   },
   "outputs": [
    {
     "data": {
      "text/plain": [
       "1168"
      ]
     },
     "execution_count": 8,
     "metadata": {},
     "output_type": "execute_result"
    }
   ],
   "source": [
    "#Facciamo un pò di EDA sul dataset creato\n",
    "len(dataset_training)"
   ]
  },
  {
   "cell_type": "code",
   "execution_count": 9,
   "id": "8814d297",
   "metadata": {
    "metadata": {}
   },
   "outputs": [
    {
     "data": {
      "text/plain": [
       "590"
      ]
     },
     "execution_count": 9,
     "metadata": {},
     "output_type": "execute_result"
    }
   ],
   "source": [
    "len(dataset_training[dataset_training['target'] == 3])"
   ]
  },
  {
   "cell_type": "code",
   "execution_count": 10,
   "id": "6334e76a",
   "metadata": {
    "metadata": {}
   },
   "outputs": [
    {
     "data": {
      "text/plain": [
       "578"
      ]
     },
     "execution_count": 10,
     "metadata": {},
     "output_type": "execute_result"
    }
   ],
   "source": [
    "len(dataset_training[dataset_training['target'] == 4])"
   ]
  },
  {
   "cell_type": "code",
   "execution_count": 11,
   "id": "7b1bdaa4",
   "metadata": {
    "metadata": {}
   },
   "outputs": [
    {
     "data": {
      "text/plain": [
       "777"
      ]
     },
     "execution_count": 11,
     "metadata": {},
     "output_type": "execute_result"
    }
   ],
   "source": [
    "len(dataset_testing)"
   ]
  },
  {
   "cell_type": "code",
   "execution_count": 12,
   "id": "842876c7",
   "metadata": {
    "metadata": {}
   },
   "outputs": [
    {
     "data": {
      "text/plain": [
       "392"
      ]
     },
     "execution_count": 12,
     "metadata": {},
     "output_type": "execute_result"
    }
   ],
   "source": [
    "len(dataset_testing[dataset_testing['target'] == 3])"
   ]
  },
  {
   "cell_type": "code",
   "execution_count": 13,
   "id": "70b181d6",
   "metadata": {
    "metadata": {}
   },
   "outputs": [
    {
     "data": {
      "text/plain": [
       "385"
      ]
     },
     "execution_count": 13,
     "metadata": {},
     "output_type": "execute_result"
    }
   ],
   "source": [
    "len(dataset_testing[dataset_testing['target'] == 4])"
   ]
  },
  {
   "cell_type": "code",
   "execution_count": 14,
   "id": "fa020052",
   "metadata": {
    "metadata": {}
   },
   "outputs": [],
   "source": [
    "import string\n",
    "import spacy\n",
    "from nltk.corpus import stopwords\n",
    "import re\n",
    "from sklearn.feature_extraction.text import TfidfVectorizer\n",
    "\n",
    "english_stopwords = stopwords.words('english')\n",
    "nlp = spacy.load('en_core_web_sm')\n",
    "punctuation = set(string.punctuation)\n",
    "\n",
    "def data_cleaner(dataset):\n",
    "    dataset_to_return = []\n",
    "    for sentence in dataset:\n",
    "        sentence = sentence.lower()\n",
    "        for c in string.punctuation:\n",
    "            sentence = sentence.replace(c, \" \")\n",
    "        document = nlp(sentence)\n",
    "        sentence = ' '.join(token.lemma_ for token in document)\n",
    "        sentence = ' '.join(word for word in sentence.split() if word not in english_stopwords)\n",
    "        sentence = re.sub('\\d', '', sentence)\n",
    "        dataset_to_return.append(sentence)\n",
    "\n",
    "    return dataset_to_return\n",
    "\n",
    "def bow_tfidf(dataset, tfidf_vectorizer):\n",
    "    if tfidf_vectorizer == None:\n",
    "        tfidf_vectorizer = TfidfVectorizer()\n",
    "        X = tfidf_vectorizer.fit_transform(dataset)\n",
    "    else:\n",
    "        X = tfidf_vectorizer.transform(dataset)\n",
    "\n",
    "    return X.toarray(), tfidf_vectorizer"
   ]
  },
  {
   "cell_type": "code",
   "execution_count": 15,
   "id": "e98f9ff8",
   "metadata": {
    "metadata": {}
   },
   "outputs": [],
   "source": [
    "#puliamo i dataset di training e di test\n",
    "training_data_cleaned, tfidf_vectorizer = bow_tfidf(data_cleaner(dataset_training['data']), None)"
   ]
  },
  {
   "cell_type": "code",
   "execution_count": 16,
   "id": "9ad590c6",
   "metadata": {
    "metadata": {}
   },
   "outputs": [
    {
     "data": {
      "text/plain": [
       "array([[0., 0., 0., ..., 0., 0., 0.],\n",
       "       [0., 0., 0., ..., 0., 0., 0.],\n",
       "       [0., 0., 0., ..., 0., 0., 0.],\n",
       "       ...,\n",
       "       [0., 0., 0., ..., 0., 0., 0.],\n",
       "       [0., 0., 0., ..., 0., 0., 0.],\n",
       "       [0., 0., 0., ..., 0., 0., 0.]])"
      ]
     },
     "execution_count": 16,
     "metadata": {},
     "output_type": "execute_result"
    }
   ],
   "source": [
    "training_data_cleaned"
   ]
  },
  {
   "cell_type": "code",
   "execution_count": 17,
   "id": "881793ac",
   "metadata": {
    "metadata": {}
   },
   "outputs": [],
   "source": [
    "testing_data_cleaned, tfidf_vectorizer = bow_tfidf(data_cleaner(dataset_testing['data']), tfidf_vectorizer)"
   ]
  },
  {
   "cell_type": "code",
   "execution_count": 18,
   "id": "36f47e1b",
   "metadata": {
    "metadata": {}
   },
   "outputs": [
    {
     "name": "stdout",
     "output_type": "stream",
     "text": [
      "Iteration 1, loss = 0.69783602\n",
      "Iteration 2, loss = 0.68076142\n",
      "Iteration 3, loss = 0.67090322\n",
      "Iteration 4, loss = 0.65969548\n",
      "Iteration 5, loss = 0.64870477\n",
      "Iteration 6, loss = 0.63859922\n",
      "Iteration 7, loss = 0.62705512\n",
      "Iteration 8, loss = 0.61524543\n",
      "Iteration 9, loss = 0.60306762\n",
      "Iteration 10, loss = 0.58985724\n",
      "Iteration 11, loss = 0.57568794\n",
      "Iteration 12, loss = 0.56094439\n",
      "Iteration 13, loss = 0.54514709\n",
      "Iteration 14, loss = 0.52843899\n",
      "Iteration 15, loss = 0.51094626\n",
      "Iteration 16, loss = 0.49279737\n",
      "Iteration 17, loss = 0.47402542\n",
      "Iteration 18, loss = 0.45485247\n",
      "Iteration 19, loss = 0.43499678\n",
      "Iteration 20, loss = 0.41536214\n",
      "Iteration 21, loss = 0.39557790\n",
      "Iteration 22, loss = 0.37557295\n",
      "Iteration 23, loss = 0.35635207\n",
      "Iteration 24, loss = 0.33720097\n",
      "Iteration 25, loss = 0.31865075\n",
      "Iteration 26, loss = 0.30085219\n",
      "Iteration 27, loss = 0.28372447\n",
      "Iteration 28, loss = 0.26750152\n",
      "Iteration 29, loss = 0.25212862\n",
      "Iteration 30, loss = 0.23745297\n",
      "Iteration 31, loss = 0.22366900\n",
      "Iteration 32, loss = 0.21071009\n",
      "Iteration 33, loss = 0.19863231\n",
      "Iteration 34, loss = 0.18729909\n",
      "Iteration 35, loss = 0.17670088\n",
      "Iteration 36, loss = 0.16682320\n",
      "Iteration 37, loss = 0.15761721\n",
      "Iteration 38, loss = 0.14907244\n",
      "Iteration 39, loss = 0.14112740\n",
      "Iteration 40, loss = 0.13364247\n",
      "Iteration 41, loss = 0.12673269\n",
      "Iteration 42, loss = 0.12028016\n",
      "Iteration 43, loss = 0.11430622\n",
      "Iteration 44, loss = 0.10873834\n",
      "Iteration 45, loss = 0.10349139\n",
      "Iteration 46, loss = 0.09863799\n",
      "Iteration 47, loss = 0.09409378\n",
      "Iteration 48, loss = 0.08983390\n",
      "Iteration 49, loss = 0.08587295\n",
      "Iteration 50, loss = 0.08217212\n",
      "Iteration 51, loss = 0.07869796\n",
      "Iteration 52, loss = 0.07541580\n",
      "Iteration 53, loss = 0.07238795\n",
      "Iteration 54, loss = 0.06950170\n",
      "Iteration 55, loss = 0.06679347\n",
      "Iteration 56, loss = 0.06429066\n",
      "Training loss did not improve more than tol=0.005000 for 10 consecutive epochs. Stopping.\n"
     ]
    },
    {
     "data": {
      "text/html": [
       "<style>#sk-container-id-1 {color: black;background-color: white;}#sk-container-id-1 pre{padding: 0;}#sk-container-id-1 div.sk-toggleable {background-color: white;}#sk-container-id-1 label.sk-toggleable__label {cursor: pointer;display: block;width: 100%;margin-bottom: 0;padding: 0.3em;box-sizing: border-box;text-align: center;}#sk-container-id-1 label.sk-toggleable__label-arrow:before {content: \"▸\";float: left;margin-right: 0.25em;color: #696969;}#sk-container-id-1 label.sk-toggleable__label-arrow:hover:before {color: black;}#sk-container-id-1 div.sk-estimator:hover label.sk-toggleable__label-arrow:before {color: black;}#sk-container-id-1 div.sk-toggleable__content {max-height: 0;max-width: 0;overflow: hidden;text-align: left;background-color: #f0f8ff;}#sk-container-id-1 div.sk-toggleable__content pre {margin: 0.2em;color: black;border-radius: 0.25em;background-color: #f0f8ff;}#sk-container-id-1 input.sk-toggleable__control:checked~div.sk-toggleable__content {max-height: 200px;max-width: 100%;overflow: auto;}#sk-container-id-1 input.sk-toggleable__control:checked~label.sk-toggleable__label-arrow:before {content: \"▾\";}#sk-container-id-1 div.sk-estimator input.sk-toggleable__control:checked~label.sk-toggleable__label {background-color: #d4ebff;}#sk-container-id-1 div.sk-label input.sk-toggleable__control:checked~label.sk-toggleable__label {background-color: #d4ebff;}#sk-container-id-1 input.sk-hidden--visually {border: 0;clip: rect(1px 1px 1px 1px);clip: rect(1px, 1px, 1px, 1px);height: 1px;margin: -1px;overflow: hidden;padding: 0;position: absolute;width: 1px;}#sk-container-id-1 div.sk-estimator {font-family: monospace;background-color: #f0f8ff;border: 1px dotted black;border-radius: 0.25em;box-sizing: border-box;margin-bottom: 0.5em;}#sk-container-id-1 div.sk-estimator:hover {background-color: #d4ebff;}#sk-container-id-1 div.sk-parallel-item::after {content: \"\";width: 100%;border-bottom: 1px solid gray;flex-grow: 1;}#sk-container-id-1 div.sk-label:hover label.sk-toggleable__label {background-color: #d4ebff;}#sk-container-id-1 div.sk-serial::before {content: \"\";position: absolute;border-left: 1px solid gray;box-sizing: border-box;top: 0;bottom: 0;left: 50%;z-index: 0;}#sk-container-id-1 div.sk-serial {display: flex;flex-direction: column;align-items: center;background-color: white;padding-right: 0.2em;padding-left: 0.2em;position: relative;}#sk-container-id-1 div.sk-item {position: relative;z-index: 1;}#sk-container-id-1 div.sk-parallel {display: flex;align-items: stretch;justify-content: center;background-color: white;position: relative;}#sk-container-id-1 div.sk-item::before, #sk-container-id-1 div.sk-parallel-item::before {content: \"\";position: absolute;border-left: 1px solid gray;box-sizing: border-box;top: 0;bottom: 0;left: 50%;z-index: -1;}#sk-container-id-1 div.sk-parallel-item {display: flex;flex-direction: column;z-index: 1;position: relative;background-color: white;}#sk-container-id-1 div.sk-parallel-item:first-child::after {align-self: flex-end;width: 50%;}#sk-container-id-1 div.sk-parallel-item:last-child::after {align-self: flex-start;width: 50%;}#sk-container-id-1 div.sk-parallel-item:only-child::after {width: 0;}#sk-container-id-1 div.sk-dashed-wrapped {border: 1px dashed gray;margin: 0 0.4em 0.5em 0.4em;box-sizing: border-box;padding-bottom: 0.4em;background-color: white;}#sk-container-id-1 div.sk-label label {font-family: monospace;font-weight: bold;display: inline-block;line-height: 1.2em;}#sk-container-id-1 div.sk-label-container {text-align: center;}#sk-container-id-1 div.sk-container {/* jupyter's `normalize.less` sets `[hidden] { display: none; }` but bootstrap.min.css set `[hidden] { display: none !important; }` so we also need the `!important` here to be able to override the default hidden behavior on the sphinx rendered scikit-learn.org. See: https://github.com/scikit-learn/scikit-learn/issues/21755 */display: inline-block !important;position: relative;}#sk-container-id-1 div.sk-text-repr-fallback {display: none;}</style><div id=\"sk-container-id-1\" class=\"sk-top-container\"><div class=\"sk-text-repr-fallback\"><pre>MLPClassifier(activation=&#x27;logistic&#x27;, max_iter=100, tol=0.005, verbose=True)</pre><b>In a Jupyter environment, please rerun this cell to show the HTML representation or trust the notebook. <br />On GitHub, the HTML representation is unable to render, please try loading this page with nbviewer.org.</b></div><div class=\"sk-container\" hidden><div class=\"sk-item\"><div class=\"sk-estimator sk-toggleable\"><input class=\"sk-toggleable__control sk-hidden--visually\" id=\"sk-estimator-id-1\" type=\"checkbox\" checked><label for=\"sk-estimator-id-1\" class=\"sk-toggleable__label sk-toggleable__label-arrow\">MLPClassifier</label><div class=\"sk-toggleable__content\"><pre>MLPClassifier(activation=&#x27;logistic&#x27;, max_iter=100, tol=0.005, verbose=True)</pre></div></div></div></div></div>"
      ],
      "text/plain": [
       "MLPClassifier(activation='logistic', max_iter=100, tol=0.005, verbose=True)"
      ]
     },
     "execution_count": 18,
     "metadata": {},
     "output_type": "execute_result"
    }
   ],
   "source": [
    "#Importiamo il MLP dalla libreria \n",
    "# cross validation da fare\n",
    "\n",
    "from sklearn.neural_network import MLPClassifier\n",
    "\n",
    "clf = MLPClassifier(activation='logistic', # per attività di classificazione testuale è consigliato usare la funzione logistica\n",
    "                    hidden_layer_sizes=(100,),\n",
    "                    max_iter=100,\n",
    "                    solver='adam', # per questo tipo di task è consigliato usare l'ottimizzatore adam\n",
    "                    tol=0.005,\n",
    "                    verbose=True)\n",
    "\n",
    "clf.fit(training_data_cleaned,dataset_training['target'])"
   ]
  },
  {
   "cell_type": "code",
   "execution_count": 19,
   "id": "918e7c13",
   "metadata": {
    "metadata": {}
   },
   "outputs": [
    {
     "data": {
      "text/plain": [
       "0.8828828828828829"
      ]
     },
     "execution_count": 19,
     "metadata": {},
     "output_type": "execute_result"
    }
   ],
   "source": [
    "#TESTIAMO IL MODELLO ADDESTRATO\n",
    "clf.score(testing_data_cleaned, dataset_testing['target'])"
   ]
  },
  {
   "cell_type": "code",
   "execution_count": 20,
   "id": "a3c6db42",
   "metadata": {
    "metadata": {}
   },
   "outputs": [],
   "source": [
    "target = clf.predict(bow_tfidf(data_cleaner([\"IBM is one of the bigger company in the world!\"]),tfidf_vectorizer)[0])[0]"
   ]
  },
  {
   "cell_type": "code",
   "execution_count": 21,
   "id": "79af43e4",
   "metadata": {
    "metadata": {}
   },
   "outputs": [
    {
     "data": {
      "text/plain": [
       "3"
      ]
     },
     "execution_count": 21,
     "metadata": {},
     "output_type": "execute_result"
    }
   ],
   "source": [
    "target"
   ]
  },
  {
   "cell_type": "code",
   "execution_count": 22,
   "id": "21c9da91",
   "metadata": {
    "metadata": {}
   },
   "outputs": [
    {
     "data": {
      "text/plain": [
       "'comp.sys.ibm.pc.hardware'"
      ]
     },
     "execution_count": 22,
     "metadata": {},
     "output_type": "execute_result"
    }
   ],
   "source": [
    "target_names[target]"
   ]
  }
 ],
 "metadata": {
  "kernelspec": {
   "display_name": "Python 3 (ipykernel)",
   "language": "python",
   "name": "python3"
  },
  "language_info": {
   "codemirror_mode": {
    "name": "ipython",
    "version": 3
   },
   "file_extension": ".py",
   "mimetype": "text/x-python",
   "name": "python",
   "nbconvert_exporter": "python",
   "pygments_lexer": "ipython3",
   "version": "3.10.12"
  }
 },
 "nbformat": 4,
 "nbformat_minor": 5
}
